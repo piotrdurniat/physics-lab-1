{
 "cells": [
  {
   "cell_type": "markdown",
   "metadata": {
    "vscode": {
     "languageId": "plaintext"
    }
   },
   "source": [
    "# 12. lab 38 - obliczenia\n"
   ]
  },
  {
   "cell_type": "code",
   "execution_count": 5,
   "metadata": {},
   "outputs": [
    {
     "name": "stdout",
     "output_type": "stream",
     "text": [
      "--- Input Data ---\n",
      "Plate Length (l): 9.5 mm = 0.00950 m\n",
      "Plate Thickness (d_sk): 0.46 mm = 0.00046 m\n",
      "Calculated Perimeter 2*(l+d_sk): 0.01992 m\n",
      "Plate Rest Mass: 272.00 mg\n",
      "\n",
      "--- Raw Force Measurements (mg) ---\n",
      "Water (raw): [398, 394, 392, 392, 396, 396, 398, 398, 398, 398]\n",
      "Alcohol (raw): [308, 310, 310, 310, 312, 308, 308, 310, 312, 310]\n",
      "Acetone (raw): [312, 312, 310, 314, 312, 312, 314, 314, 314, 312]\n",
      "\n",
      "--- Average Net Detaching Forces (after subtracting rest mass) ---\n",
      "Water: Avg Net Force 124.00 mg = 0.00121607 N\n",
      "Alcohol: Avg Net Force 37.80 mg = 0.00037070 N\n",
      "Acetone: Avg Net Force 40.60 mg = 0.00039816 N\n",
      "\n",
      "--- Final Surface Tensions (sigma) ---\n",
      "Water: 0.0610 N/m\n",
      "Alcohol: 0.0186 N/m\n",
      "Acetone: 0.0200 N/m\n"
     ]
    }
   ],
   "source": [
    "import numpy as np\n",
    "\n",
    "# --- Data from the Lab Report ---\n",
    "\n",
    "# Plate dimensions\n",
    "# Length (l) in mm\n",
    "l_mm = 9.5\n",
    "# Thickness (d) in mm - this is the corrected thickness d_sk = 0.46 mm\n",
    "# Original reading was 0.92mm, zero error was 0.46mm, so d_sk = 0.92-0.46 = 0.46mm\n",
    "d_mm = 0.46  # Corrected thickness as used in the report's calculation section\n",
    "\n",
    "# Convert dimensions to meters\n",
    "l_m = l_mm / 1000.0\n",
    "d_m = d_mm / 1000.0\n",
    "\n",
    "# Rest mass of the plate in mg\n",
    "rest_mass_mg = 272.0\n",
    "\n",
    "# Detaching force F in [mg] (Raw measurements from Table tab:sila_odrywania in the .tex file)\n",
    "# Water\n",
    "force_water_mg_raw = np.array([398, 394, 392, 392, 396, 396, 398, 398, 398, 398])\n",
    "# Alcohol\n",
    "force_alcohol_mg_raw = np.array([308, 310, 310, 310, 312, 308, 308, 310, 312, 310])\n",
    "# Acetone\n",
    "force_acetone_mg_raw = np.array([312, 312, 310, 314, 312, 312, 314, 314, 314, 312])\n",
    "\n",
    "# Conversion factor from mg to Newtons\n",
    "# 1 [mg] corresponds to a force of 9.807 * 10^-6 [N]\n",
    "mg_to_N = 9.807e-6\n",
    "\n",
    "# --- Calculations ---\n",
    "\n",
    "# Calculate net detaching force for each liquid by subtracting the rest mass\n",
    "net_force_water_mg = force_water_mg_raw - rest_mass_mg\n",
    "net_force_alcohol_mg = force_alcohol_mg_raw - rest_mass_mg\n",
    "net_force_acetone_mg = force_acetone_mg_raw - rest_mass_mg\n",
    "\n",
    "# Calculate average net detaching force for each liquid\n",
    "avg_net_force_water_mg = np.mean(net_force_water_mg)\n",
    "avg_net_force_alcohol_mg = np.mean(net_force_alcohol_mg)\n",
    "avg_net_force_acetone_mg = np.mean(net_force_acetone_mg)\n",
    "\n",
    "# Convert average net forces to Newtons\n",
    "avg_net_force_water_N = avg_net_force_water_mg * mg_to_N\n",
    "avg_net_force_alcohol_N = avg_net_force_alcohol_mg * mg_to_N\n",
    "avg_net_force_acetone_N = avg_net_force_acetone_mg * mg_to_N\n",
    "\n",
    "# Calculate the perimeter term 2*(l+d)\n",
    "perimeter_m = 2 * (l_m + d_m)\n",
    "\n",
    "# Calculate surface tension (sigma) using the formula: sigma = F_net / (2 * (l + d))\n",
    "sigma_water_corrected = avg_net_force_water_N / perimeter_m\n",
    "sigma_alcohol_corrected = avg_net_force_alcohol_N / perimeter_m\n",
    "sigma_acetone_corrected = avg_net_force_acetone_N / perimeter_m\n",
    "\n",
    "# --- Output Results ---\n",
    "\n",
    "print(\"--- Input Data ---\")\n",
    "print(f\"Plate Length (l): {l_mm} mm = {l_m:.5f} m\")\n",
    "print(f\"Plate Thickness (d_sk): {d_mm} mm = {d_m:.5f} m\")\n",
    "print(f\"Calculated Perimeter 2*(l+d_sk): {perimeter_m:.5f} m\")\n",
    "print(f\"Plate Rest Mass: {rest_mass_mg:.2f} mg\")\n",
    "\n",
    "print(\"\\n--- Raw Force Measurements (mg) ---\")\n",
    "print(f\"Water (raw): {force_water_mg_raw.tolist()}\")\n",
    "print(f\"Alcohol (raw): {force_alcohol_mg_raw.tolist()}\")\n",
    "print(f\"Acetone (raw): {force_acetone_mg_raw.tolist()}\")\n",
    "\n",
    "print(\"\\n--- Average Net Detaching Forces (after subtracting rest mass) ---\")\n",
    "print(\n",
    "    f\"Water: Avg Net Force {avg_net_force_water_mg:.2f} mg = {avg_net_force_water_N:.8f} N\"\n",
    ")\n",
    "print(\n",
    "    f\"Alcohol: Avg Net Force {avg_net_force_alcohol_mg:.2f} mg = {avg_net_force_alcohol_N:.8f} N\"\n",
    ")\n",
    "print(\n",
    "    f\"Acetone: Avg Net Force {avg_net_force_acetone_mg:.2f} mg = {avg_net_force_acetone_N:.8f} N\"\n",
    ")\n",
    "\n",
    "print(\"\\n--- Final Surface Tensions (sigma) ---\")\n",
    "print(f\"Water: {sigma_water_corrected:.4f} N/m\")\n",
    "print(f\"Alcohol: {sigma_alcohol_corrected:.4f} N/m\")\n",
    "print(f\"Acetone: {sigma_acetone_corrected:.4f} N/m\")"
   ]
  }
 ],
 "metadata": {
  "kernelspec": {
   "display_name": "venv",
   "language": "python",
   "name": "python3"
  },
  "language_info": {
   "codemirror_mode": {
    "name": "ipython",
    "version": 3
   },
   "file_extension": ".py",
   "mimetype": "text/x-python",
   "name": "python",
   "nbconvert_exporter": "python",
   "pygments_lexer": "ipython3",
   "version": "3.12.0"
  }
 },
 "nbformat": 4,
 "nbformat_minor": 2
}
