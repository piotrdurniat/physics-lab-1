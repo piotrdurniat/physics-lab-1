{
 "cells": [
  {
   "cell_type": "markdown",
   "metadata": {
    "vscode": {
     "languageId": "plaintext"
    }
   },
   "source": [
    "# 12. lab 38 - obliczenia\n"
   ]
  },
  {
   "cell_type": "code",
   "execution_count": 2,
   "metadata": {},
   "outputs": [
    {
     "name": "stdout",
     "output_type": "stream",
     "text": [
      "--- Plate Dimensions ---\n",
      "Length (l): 9.5 mm = 0.0095 m\n",
      "Thickness (d): 0.46 mm = 0.0005 m\n",
      "2*(l+d): 0.0199 m\n",
      "\n",
      "--- Average Detaching Forces ---\n",
      "Water: 396.00 mg = 0.00388357 N\n",
      "Alcohol: 309.80 mg = 0.00303821 N\n",
      "Acetone: 312.60 mg = 0.00306567 N\n",
      "\n",
      "--- Calculated Surface Tensions (sigma) ---\n",
      "Water: 0.1950 N/m\n",
      "Alcohol: 0.1525 N/m\n",
      "Acetone: 0.1539 N/m\n"
     ]
    }
   ],
   "source": [
    "import numpy as np\n",
    "\n",
    "# --- Data from the Lab Report ---\n",
    "\n",
    "# Plate dimensions (from Table tab:wymiary_plytki)\n",
    "# Length (l) in mm [cite: 36]\n",
    "l_mm = 9.5\n",
    "# Thickness (d) in mm [cite: 36]\n",
    "d_mm = 0.46\n",
    "\n",
    "# Convert dimensions to meters\n",
    "l_m = l_mm / 1000.0\n",
    "d_m = d_mm / 1000.0\n",
    "\n",
    "# Detaching force F in [mg] (from Table tab:sila_odrywania)\n",
    "# Water [cite: 37, 38, 39]\n",
    "force_water_mg = [398, 394, 392, 392, 396, 396, 398, 398, 398, 398]\n",
    "# Alcohol [cite: 37, 38, 39]\n",
    "force_alcohol_mg = [308, 310, 310, 310, 312, 308, 308, 310, 312, 310]\n",
    "# Acetone [cite: 37, 38, 39]\n",
    "force_acetone_mg = [312, 312, 310, 314, 312, 312, 314, 314, 314, 312]\n",
    "\n",
    "# Conversion factor from mg to Newtons\n",
    "# 1 [mg] = 9.807 * 10^-6 [N] (from the instruction manual)\n",
    "mg_to_N = 9.807e-6\n",
    "\n",
    "# --- Calculations ---\n",
    "\n",
    "# Calculate average detaching force for each liquid\n",
    "avg_force_water_mg = np.mean(force_water_mg)\n",
    "avg_force_alcohol_mg = np.mean(force_alcohol_mg)\n",
    "avg_force_acetone_mg = np.mean(force_acetone_mg)\n",
    "\n",
    "# Convert average forces to Newtons\n",
    "avg_force_water_N = avg_force_water_mg * mg_to_N\n",
    "avg_force_alcohol_N = avg_force_alcohol_mg * mg_to_N\n",
    "avg_force_acetone_N = avg_force_acetone_mg * mg_to_N\n",
    "\n",
    "# Calculate surface tension (sigma) using the formula: sigma = F / (2 * (l + d)) [cite: 16]\n",
    "sigma_water = avg_force_water_N / (2 * (l_m + d_m))\n",
    "sigma_alcohol = avg_force_alcohol_N / (2 * (l_m + d_m))\n",
    "sigma_acetone = avg_force_acetone_N / (2 * (l_m + d_m))\n",
    "\n",
    "# --- Output Results ---\n",
    "\n",
    "print(\"--- Plate Dimensions ---\")\n",
    "print(f\"Length (l): {l_mm} mm = {l_m:.4f} m\")\n",
    "print(f\"Thickness (d): {d_mm} mm = {d_m:.4f} m\")\n",
    "print(f\"2*(l+d): {2*(l_m + d_m):.4f} m\")\n",
    "print(\"\\n--- Average Detaching Forces ---\")\n",
    "print(f\"Water: {avg_force_water_mg:.2f} mg = {avg_force_water_N:.8f} N\")\n",
    "print(f\"Alcohol: {avg_force_alcohol_mg:.2f} mg = {avg_force_alcohol_N:.8f} N\")\n",
    "print(f\"Acetone: {avg_force_acetone_mg:.2f} mg = {avg_force_acetone_N:.8f} N\")\n",
    "\n",
    "print(\"\\n--- Calculated Surface Tensions (sigma) ---\")\n",
    "print(f\"Water: {sigma_water:.4f} N/m\")\n",
    "print(f\"Alcohol: {sigma_alcohol:.4f} N/m\")\n",
    "print(f\"Acetone: {sigma_acetone:.4f} N/m\")"
   ]
  }
 ],
 "metadata": {
  "kernelspec": {
   "display_name": "venv",
   "language": "python",
   "name": "python3"
  },
  "language_info": {
   "codemirror_mode": {
    "name": "ipython",
    "version": 3
   },
   "file_extension": ".py",
   "mimetype": "text/x-python",
   "name": "python",
   "nbconvert_exporter": "python",
   "pygments_lexer": "ipython3",
   "version": "3.12.0"
  }
 },
 "nbformat": 4,
 "nbformat_minor": 2
}
