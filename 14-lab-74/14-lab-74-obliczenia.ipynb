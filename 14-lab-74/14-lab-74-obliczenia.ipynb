{
 "cells": [
  {
   "cell_type": "markdown",
   "metadata": {
    "vscode": {
     "languageId": "plaintext"
    }
   },
   "source": [
    "# 14. lab 74 - obliczenia\n"
   ]
  },
  {
   "cell_type": "code",
   "execution_count": 7,
   "metadata": {},
   "outputs": [],
   "source": [
    "import numpy as np"
   ]
  },
  {
   "cell_type": "code",
   "execution_count": 10,
   "metadata": {},
   "outputs": [
    {
     "name": "stdout",
     "output_type": "stream",
     "text": [
      "Średnia prędkość światła (po odrzuceniu ostatniego pomiaru): 2.8900e+08 m/s\n"
     ]
    }
   ],
   "source": [
    "speeds = np.array([2.857e8, 2.833e8, 3.125e8, 2.863e8, 2.772e8, 3.950e8])\n",
    "\n",
    "# Odrzucenie ostatniego pomiaru\n",
    "speeds_filtered = speeds[:-1]\n",
    "average_speed = np.mean(speeds_filtered)\n",
    "\n",
    "print(\n",
    "    f\"Średnia prędkość światła (po odrzuceniu ostatniego pomiaru): {average_speed:.4e} m/s\"\n",
    ")"
   ]
  },
  {
   "cell_type": "markdown",
   "metadata": {},
   "source": [
    "## Niepewności <3\n"
   ]
  },
  {
   "cell_type": "code",
   "execution_count": 13,
   "metadata": {},
   "outputs": [
    {
     "name": "stdout",
     "output_type": "stream",
     "text": [
      "5.7735026918962584e-08\n",
      "--- Obliczone niepewności złożone dla prędkości światła (jednostki SI) ---\n",
      "---------------------------------------------------------------------------\n",
      "L [m]           | t [s]           | v [m/s]            | u_c(v) [m/s]        \n",
      "---------------------------------------------------------------------------\n",
      "10.000          | 7.0e-08         | 2.857e+08          | 2.357e+08           \n",
      "8.500           | 6.0e-08         | 2.833e+08          | 2.726e+08           \n",
      "6.250           | 4.0e-08         | 3.125e+08          | 4.511e+08           \n",
      "11.450          | 8.0e-08         | 2.862e+08          | 2.066e+08           \n",
      "13.860          | 1.0e-07         | 2.772e+08          | 1.600e+08           \n",
      "3.950           | 2.0e-08         | 3.950e+08          | 1.140e+09           \n",
      "---------------------------------------------------------------------------\n"
     ]
    }
   ],
   "source": [
    "# --- Dane z tabeli ---\n",
    "L_values = np.array([10.000, 8.500, 6.250, 11.450, 13.860, 3.950])  # [m]\n",
    "t_values_ns = np.array([70, 60, 40, 80, 100, 20])  # [ns]\n",
    "t_values_s = t_values_ns * 1e-9  # [s]\n",
    "\n",
    "u_L = 0.01 / np.sqrt(3)  # [m]\n",
    "u_t_s = 0.1e-6 * (1 / np.sqrt(3))  # [s]\n",
    "\n",
    "v_values = (2 * L_values) / t_values_s\n",
    "u_c_v_values = []\n",
    "\n",
    "for i in range(len(L_values)):\n",
    "    L = L_values[i]\n",
    "    t = t_values_s[i]\n",
    "    v = v_values[i]\n",
    "\n",
    "    term_L_sq = (u_L / L) ** 2\n",
    "    term_t_sq = (u_t_s / t) ** 2\n",
    "    u_c_v = v * np.sqrt(term_L_sq + term_t_sq)\n",
    "    u_c_v_values.append(u_c_v)\n",
    "\n",
    "u_c_v_values = np.array(u_c_v_values)\n",
    "\n",
    "print(u_t_s)\n",
    "\n",
    "print(\"--- Obliczone niepewności złożone dla prędkości światła (jednostki SI) ---\")\n",
    "print(\"-\" * 75)\n",
    "print(f\"{'L [m]':<15} | {'t [s]':<15} | {'v [m/s]':<18} | {'u_c(v) [m/s]':<20}\")\n",
    "print(\"-\" * 75)\n",
    "for i in range(len(L_values)):\n",
    "    print(\n",
    "        f\"{L_values[i]:<15.3f} | {t_values_s[i]:<15.1e} | {v_values[i]:<18.3e} | {u_c_v_values[i]:<20.3e}\"\n",
    "    )\n",
    "print(\"-\" * 75)"
   ]
  },
  {
   "cell_type": "code",
   "execution_count": null,
   "metadata": {},
   "outputs": [
    {
     "name": "stdout",
     "output_type": "stream",
     "text": [
      "Użyte prędkości (pierwsze 5): [2.857e+08 2.833e+08 3.125e+08 2.863e+08 2.772e+08]\n",
      "Liczba pomiarów (N): 5\n",
      "Średnia prędkość (v_bar): 2.8900e+08 m/s\n",
      "------------------------------------------------------------\n",
      "Niepewność standardowa średniej prędkości (u(v_bar)): 6.0916e+06 m/s\n"
     ]
    }
   ],
   "source": [
    "import numpy as np\n",
    "\n",
    "speeds = np.array([2.857e8, 2.833e8, 3.125e8, 2.863e8, 2.772e8, 3.950e8])\n",
    "\n",
    "speeds_first_5 = speeds[:-1]\n",
    "N = len(speeds_first_5)\n",
    "\n",
    "mean_v = np.mean(speeds_first_5)\n",
    "sum_sq_diff = np.sum((speeds_first_5 - mean_v) ** 2)\n",
    "uncertainty_mean_v = np.sqrt(sum_sq_diff / (N * (N - 1)))\n",
    "\n",
    "print(f\"Użyte prędkości (pierwsze 5): {speeds_first_5}\")\n",
    "print(f\"Liczba pomiarów (N): {N}\")\n",
    "print(f\"Średnia prędkość (v_bar): {mean_v:.4e} m/s\")\n",
    "print(\"-\" * 60)\n",
    "print(\n",
    "    f\"Niepewność standardowa średniej prędkości (u(v_bar)): {uncertainty_mean_v:.4e} m/s\"\n",
    ")"
   ]
  },
  {
   "cell_type": "code",
   "execution_count": null,
   "metadata": {},
   "outputs": [
    {
     "name": "stdout",
     "output_type": "stream",
     "text": [
      "Experimental average speed (v_bar): 2.8900e+08 m/s\n",
      "Reference speed in air (v_air):     2.9970e+08 m/s\n",
      "--------------------------------------------------\n",
      "Absolute difference: 1.0705e+07 m/s\n",
      "Relative error: 3.57%\n"
     ]
    }
   ],
   "source": [
    "experimental_v = 2.8900e8  # m/s\n",
    "\n",
    "reference_v = 2.99705e8  # m/s (approximate value based on c / 1.00029)\n",
    "\n",
    "absolute_difference = abs(experimental_v - reference_v)\n",
    "\n",
    "relative_error_percent = (absolute_difference / reference_v) * 100\n",
    "\n",
    "# Print the result\n",
    "print(f\"Experimental average speed (v_bar): {experimental_v:.4e} m/s\")\n",
    "print(f\"Reference speed in air (v_air):     {reference_v:.4e} m/s\")\n",
    "print(\"-\" * 50)\n",
    "print(f\"Absolute difference: {absolute_difference:.4e} m/s\")\n",
    "print(f\"Relative error: {relative_error_percent:.2f}%\")"
   ]
  }
 ],
 "metadata": {
  "kernelspec": {
   "display_name": "venv",
   "language": "python",
   "name": "python3"
  },
  "language_info": {
   "codemirror_mode": {
    "name": "ipython",
    "version": 3
   },
   "file_extension": ".py",
   "mimetype": "text/x-python",
   "name": "python",
   "nbconvert_exporter": "python",
   "pygments_lexer": "ipython3",
   "version": "3.12.0"
  }
 },
 "nbformat": 4,
 "nbformat_minor": 2
}
