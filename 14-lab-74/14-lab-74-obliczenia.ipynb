{
 "cells": [
  {
   "cell_type": "markdown",
   "metadata": {
    "vscode": {
     "languageId": "plaintext"
    }
   },
   "source": [
    "# 14. lab 74 - obliczenia\n"
   ]
  },
  {
   "cell_type": "code",
   "execution_count": 1,
   "metadata": {},
   "outputs": [
    {
     "name": "stdout",
     "output_type": "stream",
     "text": [
      "Dane prędkości (wszystkie): [2.857e+08 2.833e+08 3.125e+08 2.863e+08 2.772e+08 3.950e+08]\n",
      "Dane prędkości (po odrzuceniu ostatniego): [2.857e+08 2.833e+08 3.125e+08 2.863e+08 2.772e+08]\n",
      "Średnia prędkość światła (po odrzuceniu ostatniego pomiaru): 2.8900e+08 m/s\n"
     ]
    }
   ],
   "source": [
    "import numpy as np\n",
    "\n",
    "# Prędkości światła [m/s] z tabeli\n",
    "speeds = np.array([2.857e8, 2.833e8, 3.125e8, 2.863e8, 2.772e8, 3.950e8])\n",
    "\n",
    "# Odrzucenie ostatniego pomiaru\n",
    "speeds_filtered = speeds[:-1]\n",
    "\n",
    "# Obliczenie średniej prędkości\n",
    "average_speed = np.mean(speeds_filtered)\n",
    "\n",
    "# Wyświetlenie wyniku\n",
    "print(f\"Dane prędkości (wszystkie): {speeds}\")\n",
    "print(f\"Dane prędkości (po odrzuceniu ostatniego): {speeds_filtered}\")\n",
    "print(\n",
    "    f\"Średnia prędkość światła (po odrzuceniu ostatniego pomiaru): {average_speed:.4e} m/s\"\n",
    ")"
   ]
  }
 ],
 "metadata": {
  "kernelspec": {
   "display_name": "venv",
   "language": "python",
   "name": "python3"
  },
  "language_info": {
   "codemirror_mode": {
    "name": "ipython",
    "version": 3
   },
   "file_extension": ".py",
   "mimetype": "text/x-python",
   "name": "python",
   "nbconvert_exporter": "python",
   "pygments_lexer": "ipython3",
   "version": "3.12.0"
  }
 },
 "nbformat": 4,
 "nbformat_minor": 2
}
