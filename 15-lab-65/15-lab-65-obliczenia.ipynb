{
 "cells": [
  {
   "cell_type": "markdown",
   "metadata": {
    "vscode": {
     "languageId": "plaintext"
    }
   },
   "source": [
    "# 15. lab 65 - obliczenia\n"
   ]
  },
  {
   "cell_type": "code",
   "execution_count": 4,
   "metadata": {},
   "outputs": [
    {
     "name": "stdout",
     "output_type": "stream",
     "text": [
      "\n",
      "--- Tabela 2 (Średnice i promienie) ---\n",
      "n   | D_X [mm]   | D_Y [mm]   | r_n [mm]  \n",
      "---------------------------------------\n",
      "Przykład (n=2):\n",
      "  D_X,2 = 3.73 mm\n",
      "  D_Y,2 = 3.69 mm\n",
      "  r_2   = 1.8550 mm\n",
      "---------------------------------------\n",
      "2   | 3.73       | 3.69       | 1.8550    \n",
      "3   | 4.87       | 4.84       | 2.4275    \n",
      "4   | 5.80       | 5.66       | 2.8650    \n",
      "5   | 6.65       | 6.53       | 3.2950    \n",
      "6   | 7.34       | 7.26       | 3.6500    \n",
      "\n",
      "--- Tabela 3 (Promienie krzywizny R_n) ---\n",
      "n   | R_n [m]   \n",
      "----------------\n",
      "2   | 2.921     \n",
      "3   | 3.335     \n",
      "4   | 3.484     \n",
      "5   | 3.687     \n",
      "6   | 3.770     \n",
      "----------------\n",
      "Przykład (n=2): R_2 = 2.921 m\n",
      "\n",
      "średnia R_bar: 3.439 m\n"
     ]
    }
   ],
   "source": [
    "import numpy as np\n",
    "\n",
    "# --- 1. Dane wejściowe i stałe ---\n",
    "\n",
    "# Numery prążków\n",
    "n = np.array([2, 3, 4, 5, 6])\n",
    "\n",
    "# Długość fali światła sodowego [m]\n",
    "lambda_val = 589e-9\n",
    "\n",
    "# Dane pomiarowe z tabeli 1 (wartości w mm, konwersja na metry -> * 1e-3)\n",
    "x_max = np.array([23.62, 24.21, 24.58, 25.09, 25.38]) * 1e-3\n",
    "x_min = np.array([19.89, 19.34, 18.78, 18.44, 18.04]) * 1e-3\n",
    "y_max = np.array([7.92, 8.54, 8.89, 9.39, 9.72]) * 1e-3\n",
    "y_min = np.array([4.23, 3.70, 3.23, 2.86, 2.46]) * 1e-3\n",
    "\n",
    "\n",
    "print(\"\\n--- Tabela 2 (Średnice i promienie) ---\")\n",
    "print(f\"{'n':<3} | {'D_X [mm]':<10} | {'D_Y [mm]':<10} | {'r_n [mm]':<10}\")\n",
    "print(\"-\" * 39)\n",
    "\n",
    "D_X = x_max - x_min\n",
    "D_Y = y_max - y_min\n",
    "r_n = (D_X + D_Y) / 4\n",
    "\n",
    "D_X_2_check = (x_max[0] - x_min[0]) * 1000  # w mm\n",
    "D_Y_2_check = (y_max[0] - y_min[0]) * 1000  # w mm\n",
    "r_2_check = r_n[0] * 1000  # w mm\n",
    "\n",
    "print(\"Przykład (n=2):\")\n",
    "print(f\"  D_X,2 = {D_X_2_check:.2f} mm\")\n",
    "print(f\"  D_Y,2 = {D_Y_2_check:.2f} mm\")\n",
    "print(f\"  r_2   = {r_2_check:.4f} mm\")\n",
    "print(\"-\" * 39)\n",
    "\n",
    "for i in range(len(n)):\n",
    "    print(\n",
    "        f\"{n[i]:<3} | {D_X[i]*1000:<10.2f} | {D_Y[i]*1000:<10.2f} | {r_n[i]*1000:<10.4f}\"\n",
    "    )\n",
    "\n",
    "print(\"\\n--- Tabela 3 (Promienie krzywizny R_n) ---\")\n",
    "print(f\"{'n':<3} | {'R_n [m]':<10}\")\n",
    "print(\"-\" * 16)\n",
    "\n",
    "R_n = r_n**2 / (n * lambda_val)\n",
    "\n",
    "for i in range(len(n)):\n",
    "    print(f\"{n[i]:<3} | {R_n[i]:<10.3f}\")\n",
    "\n",
    "R_2_check = R_n[0]\n",
    "print(\"-\" * 16)\n",
    "print(f\"Przykład (n=2): R_2 = {R_2_check:.3f} m\")\n",
    "\n",
    "R_bar = np.mean(R_n)\n",
    "print(f\"\\nśrednia R_bar: {R_bar:.3f} m\")"
   ]
  }
 ],
 "metadata": {
  "kernelspec": {
   "display_name": "venv",
   "language": "python",
   "name": "python3"
  },
  "language_info": {
   "codemirror_mode": {
    "name": "ipython",
    "version": 3
   },
   "file_extension": ".py",
   "mimetype": "text/x-python",
   "name": "python",
   "nbconvert_exporter": "python",
   "pygments_lexer": "ipython3",
   "version": "3.12.0"
  }
 },
 "nbformat": 4,
 "nbformat_minor": 2
}
